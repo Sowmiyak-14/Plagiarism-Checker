{
 "cells": [
  {
   "cell_type": "code",
   "execution_count": 1,
   "metadata": {},
   "outputs": [
    {
     "name": "stdout",
     "output_type": "stream",
     "text": [
      "File GEM.txt :\n",
      "508 lines, \n",
      "70 words, \n",
      "41 distinct words\n",
      "File file.txt :\n",
      "2194 lines, \n",
      "270 words, \n",
      "142 distinct words\n",
      "The distance between the documents is:  1.346257 (radians)\n"
     ]
    }
   ],
   "source": [
    "import math \n",
    "import string \n",
    "import sys \n",
    "def read_file(filename):  \n",
    "      \n",
    "    try: \n",
    "        with open(filename, 'r') as f: \n",
    "            data = f.read() \n",
    "        return data \n",
    "      \n",
    "    except IOError: \n",
    "        print(\"Error opening or reading input file: \", filename) \n",
    "        sys.exit() \n",
    "translation_table = str.maketrans(string.punctuation+string.ascii_uppercase, \n",
    "                                     \" \"*len(string.punctuation)+string.ascii_lowercase) \n",
    "def get_words_from_line_list(text):  \n",
    "      \n",
    "    text = text.translate(translation_table) \n",
    "    word_list = text.split() \n",
    "      \n",
    "    return word_list  \n",
    "def count_frequency(word_list):  \n",
    "      \n",
    "    D = {} \n",
    "      \n",
    "    for new_word in word_list: \n",
    "          \n",
    "        if new_word in D: \n",
    "            D[new_word] = D[new_word] + 1\n",
    "              \n",
    "        else: \n",
    "            D[new_word] = 1\n",
    "              \n",
    "    return D \n",
    "def word_frequencies_for_file(filename):  \n",
    "    line_list = read_file(filename) \n",
    "    word_list = get_words_from_line_list(line_list) \n",
    "    freq_mapping = count_frequency(word_list) \n",
    "    print(\"File\", filename, \":\", ) \n",
    "    print(len(line_list), \"lines, \", ) \n",
    "    print(len(word_list), \"words, \", ) \n",
    "    print(len(freq_mapping), \"distinct words\") \n",
    "  \n",
    "    return freq_mapping \n",
    "def dotProduct(D1, D2):  \n",
    "    Sum = 0.0\n",
    "      \n",
    "    for key in D1: \n",
    "          \n",
    "        if key in D2: \n",
    "            Sum += (D1[key] * D2[key]) \n",
    "              \n",
    "    return Sum\n",
    "def vector_angle(D1, D2):  \n",
    "    numerator = dotProduct(D1, D2) \n",
    "    denominator = math.sqrt(dotProduct(D1, D1)*dotProduct(D2, D2)) \n",
    "      \n",
    "    return math.acos(numerator / denominator) \n",
    "  \n",
    "  \n",
    "def documentSimilarity(filename_1, filename_2): \n",
    "    sorted_word_list_1 = word_frequencies_for_file(filename_1) \n",
    "    sorted_word_list_2 = word_frequencies_for_file(filename_2) \n",
    "    distance = vector_angle(sorted_word_list_1, sorted_word_list_2) \n",
    "      \n",
    "    print(\"The distance between the documents is: % 0.6f (radians)\" % distance)  \n",
    "documentSimilarity('GEM.txt', 'file.txt') "
   ]
  }
 ],
 "metadata": {
  "kernelspec": {
   "display_name": "base",
   "language": "python",
   "name": "python3"
  },
  "language_info": {
   "codemirror_mode": {
    "name": "ipython",
    "version": 3
   },
   "file_extension": ".py",
   "mimetype": "text/x-python",
   "name": "python",
   "nbconvert_exporter": "python",
   "pygments_lexer": "ipython3",
   "version": "3.12.2"
  }
 },
 "nbformat": 4,
 "nbformat_minor": 2
}
